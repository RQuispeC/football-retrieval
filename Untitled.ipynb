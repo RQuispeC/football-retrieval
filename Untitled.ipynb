{
 "cells": [
  {
   "cell_type": "code",
   "execution_count": 1,
   "metadata": {},
   "outputs": [],
   "source": [
    "#import matplotlib\n",
    "#matplotlib.use(\"Agg\")\n",
    "\n",
    "import numpy as np\n",
    "from matplotlib import pyplot as plt\n",
    "import matplotlib.animation as manimation\n",
    "\n",
    "\n",
    "from sklearn.preprocessing import MinMaxScaler\n",
    "from skimage.exposure import rescale_intensity\n",
    "\n",
    "from football_lib.utils import draw_pitch"
   ]
  },
  {
   "cell_type": "code",
   "execution_count": 2,
   "metadata": {},
   "outputs": [],
   "source": [
    "def token_position(position_str):\n",
    "    position = position_str.split()#.astype(float)\n",
    "    id_position = int(position[0])\n",
    "    players_x = []\n",
    "    players_y = []\n",
    "    for i in range(1, len(position), 2):\n",
    "        players_x.append(position[i])\n",
    "        players_y.append(position[i + 1])\n",
    "        \n",
    "    players_x = np.array(players_x).astype('float')\n",
    "    players_y = np.array(players_y).astype('float')\n",
    "    return id_position, players_x,players_y"
   ]
  },
  {
   "cell_type": "code",
   "execution_count": 3,
   "metadata": {},
   "outputs": [],
   "source": [
    "def read_2d(fpath):\n",
    "    \"\"\"\n",
    "    Reads a .2d file\n",
    "    Input\n",
    "    \n",
    "    fpath: file path of .2d \n",
    "    \n",
    "    Ouput:\n",
    "    ids: list of times (e.g. [1, 2, ... , n])\n",
    "    objs: list of 2 dimention files (shape = (n, k, 2)) k is the number of players\n",
    "    \"\"\"\n",
    "    #check_isfile(fpath)\n",
    "    objs = []\n",
    "    ids = []\n",
    "    with open(fpath, 'r') as f:\n",
    "        for ff in f:\n",
    "            id_position, players_x, players_y = token_position(ff)\n",
    "            objs.append((players_x, players_y))\n",
    "            ids.append(id_position)\n",
    "    objs = np.array(objs)\n",
    "    ids = np.array(ids)\n",
    "    return ids, objs"
   ]
  },
  {
   "cell_type": "code",
   "execution_count": 4,
   "metadata": {},
   "outputs": [],
   "source": [
    "def rescale(image,intensity):\n",
    "    output = rescale_intensity(image, in_range=(0, intensity))\n",
    "    output = (output * intensity).astype(\"float\")\n",
    "    return output"
   ]
  },
  {
   "cell_type": "code",
   "execution_count": 5,
   "metadata": {},
   "outputs": [],
   "source": [
    "FFMpegWriter = manimation.writers['ffmpeg']\n",
    "metadata = dict(title='Movie Test', artist='Matplotlib',\n",
    "                comment='Movie support!')\n",
    "writer = FFMpegWriter(fps=15, metadata=metadata)"
   ]
  },
  {
   "cell_type": "code",
   "execution_count": 6,
   "metadata": {},
   "outputs": [],
   "source": [
    "fpath = \"/home/leodecio/Área de Trabalho/Unicamp/1st_semester/recuperacao_de_informacao/pesquisa/Dados Futebol/CapBotT1Suav.2d\"\n",
    "# load data of match\n",
    "ids, objs = read_2d(fpath)"
   ]
  },
  {
   "cell_type": "code",
   "execution_count": 7,
   "metadata": {},
   "outputs": [],
   "source": [
    "#Posição do CSV\n",
    "X = objs[1][0]\n",
    "X[X == -9999.0] = 9999\n",
    "\n",
    "Y = objs[1][1]\n",
    "Y[Y == -9999.0] = 9999"
   ]
  },
  {
   "cell_type": "code",
   "execution_count": 8,
   "metadata": {},
   "outputs": [],
   "source": [
    "new_x = rescale(X,122)\n",
    "new_y = rescale(Y,82)\n",
    "\n",
    "#np.save(\"new_x\",new_x)\n",
    "#np.save(\"new_y\",new_y)"
   ]
  },
  {
   "cell_type": "code",
   "execution_count": 9,
   "metadata": {},
   "outputs": [
    {
     "data": {
      "text/plain": [
       "(-2.0, 122.0, -2.0, 82.0)"
      ]
     },
     "execution_count": 9,
     "metadata": {},
     "output_type": "execute_result"
    },
    {
     "data": {
      "image/png": "[encoded data removed]",
      "text/plain": [
       "<Figure size 504x360 with 1 Axes>"
      ]
     },
     "metadata": {
      "needs_background": "light"
     },
     "output_type": "display_data"
    }
   ],
   "source": [
    "fig =plt.figure() #set up the figures\n",
    "fig.set_size_inches(7, 5)\n",
    "ss = fig.add_subplot(1,1,1)\n",
    "\n",
    "ax = draw_pitch.draw_pitch(ss) #overlay our different objects on the pitch\n",
    "\n",
    "l, = plt.plot([], [], 'o')\n",
    "g, = plt.plot([], [], 'o')\n",
    "\n",
    "plt.ylim(-2, 82)\n",
    "plt.xlim(-2, 122)\n",
    "plt.axis('off')"
   ]
  },
  {
   "cell_type": "code",
   "execution_count": 10,
   "metadata": {},
   "outputs": [],
   "source": [
    "#definição dos times\n",
    "x_1 = new_x[:14]\n",
    "x_2 = new_x[14:]\n",
    "\n",
    "y_1 = new_y[:14]\n",
    "y_2 = new_y[14:]"
   ]
  },
  {
   "cell_type": "code",
   "execution_count": 13,
   "metadata": {},
   "outputs": [
    {
     "data": {
      "image/png": "[encoded data removed]",
      "text/plain": [
       "<Figure size 504x360 with 1 Axes>"
      ]
     },
     "metadata": {
      "needs_background": "light"
     },
     "output_type": "display_data"
    }
   ],
   "source": [
    "fig =plt.figure() #set up the figures\n",
    "fig.set_size_inches(7, 5)\n",
    "ss = fig.add_subplot(1,1,1)\n",
    "\n",
    "ax = draw_pitch.draw_pitch(ss) #overlay our different objects on the pitch\n",
    "\n",
    "l, = plt.plot([], [], 'o')\n",
    "g, = plt.plot([], [], 'o')\n",
    "\n",
    "l.set_data([x_1], [y_1])\n",
    "g.set_data([x_2], [y_2])\n",
    "\n",
    "plt.ylim(-2, 82)\n",
    "plt.xlim(-2, 122)\n",
    "plt.axis('off')\n",
    "\n",
    "plt.savefig('rs.png')"
   ]
  },
  {
   "cell_type": "code",
   "execution_count": null,
   "metadata": {},
   "outputs": [],
   "source": [
    "l.set_data([x_1], [y_1])\n",
    "g.set_data([x_2], [y_2])"
   ]
  },
  {
   "cell_type": "code",
   "execution_count": 20,
   "metadata": {},
   "outputs": [],
   "source": [
    "with writer.saving(fig, \"g2.mp4\", 100):\n",
    "    for i in range(0,len(new_x)):\n",
    "        l.set_data([x_1], [y_1])\n",
    "        g.set_data([x_2], [y_2])\n",
    "        writer.grab_frame()"
   ]
  },
  {
   "cell_type": "code",
   "execution_count": null,
   "metadata": {},
   "outputs": [],
   "source": []
  }
 ],
 "metadata": {
  "kernelspec": {
   "display_name": "Python 3",
   "language": "python",
   "name": "python3"
  },
  "language_info": {
   "codemirror_mode": {
    "name": "ipython",
    "version": 3
   },
   "file_extension": ".py",
   "mimetype": "text/x-python",
   "name": "python",
   "nbconvert_exporter": "python",
   "pygments_lexer": "ipython3",
   "version": "3.7.1"
  }
 },
 "nbformat": 4,
 "nbformat_minor": 2
}
